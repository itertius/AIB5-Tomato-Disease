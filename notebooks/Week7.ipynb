{
 "cells": [
  {
   "cell_type": "code",
   "execution_count": null,
   "metadata": {
    "execution": {
     "iopub.execute_input": "2025-05-10T15:29:51.916995Z",
     "iopub.status.busy": "2025-05-10T15:29:51.916740Z",
     "iopub.status.idle": "2025-05-10T15:29:51.920815Z",
     "shell.execute_reply": "2025-05-10T15:29:51.919872Z",
     "shell.execute_reply.started": "2025-05-10T15:29:51.916965Z"
    },
    "trusted": true
   },
   "outputs": [],
   "source": [
    "# !pip freeze > requirements.txt"
   ]
  },
  {
   "cell_type": "code",
   "execution_count": null,
   "metadata": {},
   "outputs": [],
   "source": []
  },
  {
   "cell_type": "code",
   "execution_count": null,
   "metadata": {
    "execution": {
     "iopub.execute_input": "2025-05-10T15:29:51.921923Z",
     "iopub.status.busy": "2025-05-10T15:29:51.921628Z",
     "iopub.status.idle": "2025-05-10T15:29:51.934488Z",
     "shell.execute_reply": "2025-05-10T15:29:51.933666Z",
     "shell.execute_reply.started": "2025-05-10T15:29:51.921887Z"
    },
    "trusted": true
   },
   "outputs": [],
   "source": [
    "# import os\n",
    "# import matplotlib.pyplot as plt"
   ]
  },
  {
   "cell_type": "code",
   "execution_count": null,
   "metadata": {
    "execution": {
     "iopub.execute_input": "2025-05-10T15:29:51.935574Z",
     "iopub.status.busy": "2025-05-10T15:29:51.935299Z",
     "iopub.status.idle": "2025-05-10T15:29:51.945687Z",
     "shell.execute_reply": "2025-05-10T15:29:51.944858Z",
     "shell.execute_reply.started": "2025-05-10T15:29:51.935529Z"
    },
    "trusted": true
   },
   "outputs": [],
   "source": [
    "# ds = '/kaggle/working/plantvillage_split_augmented/val'"
   ]
  },
  {
   "cell_type": "code",
   "execution_count": null,
   "metadata": {
    "execution": {
     "iopub.execute_input": "2025-05-10T15:29:51.947915Z",
     "iopub.status.busy": "2025-05-10T15:29:51.947706Z",
     "iopub.status.idle": "2025-05-10T15:29:51.957510Z",
     "shell.execute_reply": "2025-05-10T15:29:51.956685Z",
     "shell.execute_reply.started": "2025-05-10T15:29:51.947896Z"
    },
    "trusted": true
   },
   "outputs": [],
   "source": [
    "# class_counts = {}\n",
    "# for class_name in os.listdir(ds):\n",
    "#     class_path = os.path.join(ds, class_name)\n",
    "#     if os.path.isdir(class_path):\n",
    "#         num_images = len(os.listdir(class_path))\n",
    "#         class_counts[class_name] = num_images"
   ]
  },
  {
   "cell_type": "code",
   "execution_count": null,
   "metadata": {
    "execution": {
     "iopub.execute_input": "2025-05-10T15:29:51.958958Z",
     "iopub.status.busy": "2025-05-10T15:29:51.958758Z",
     "iopub.status.idle": "2025-05-10T15:29:51.964006Z",
     "shell.execute_reply": "2025-05-10T15:29:51.963252Z",
     "shell.execute_reply.started": "2025-05-10T15:29:51.958937Z"
    },
    "trusted": true
   },
   "outputs": [],
   "source": [
    "# class_counts = dict(sorted(class_counts.items(), key=lambda x: x[1], reverse=True))"
   ]
  },
  {
   "cell_type": "code",
   "execution_count": null,
   "metadata": {
    "execution": {
     "iopub.execute_input": "2025-05-10T15:29:51.965067Z",
     "iopub.status.busy": "2025-05-10T15:29:51.964782Z",
     "iopub.status.idle": "2025-05-10T15:29:51.975581Z",
     "shell.execute_reply": "2025-05-10T15:29:51.974842Z",
     "shell.execute_reply.started": "2025-05-10T15:29:51.965040Z"
    },
    "trusted": true
   },
   "outputs": [],
   "source": [
    "# unwanted = [\"Potato\", \"Pepper\"]\n",
    "# for name in list(class_counts.keys()):\n",
    "#     if any(plant in name for plant in unwanted):\n",
    "#         class_counts.pop(name)"
   ]
  },
  {
   "cell_type": "code",
   "execution_count": null,
   "metadata": {
    "execution": {
     "iopub.execute_input": "2025-05-10T15:29:51.976603Z",
     "iopub.status.busy": "2025-05-10T15:29:51.976398Z",
     "iopub.status.idle": "2025-05-10T15:29:51.986610Z",
     "shell.execute_reply": "2025-05-10T15:29:51.985901Z",
     "shell.execute_reply.started": "2025-05-10T15:29:51.976585Z"
    },
    "trusted": true
   },
   "outputs": [],
   "source": [
    "# for cls, count in class_counts.items():\n",
    "#     print(f'{cls}: {count} images')"
   ]
  },
  {
   "cell_type": "markdown",
   "metadata": {},
   "source": [
    "# **Class Distribution**"
   ]
  },
  {
   "cell_type": "code",
   "execution_count": null,
   "metadata": {
    "execution": {
     "iopub.execute_input": "2025-05-10T15:29:51.987712Z",
     "iopub.status.busy": "2025-05-10T15:29:51.987483Z",
     "iopub.status.idle": "2025-05-10T15:29:51.998922Z",
     "shell.execute_reply": "2025-05-10T15:29:51.998192Z",
     "shell.execute_reply.started": "2025-05-10T15:29:51.987686Z"
    },
    "trusted": true
   },
   "outputs": [],
   "source": [
    "# plt.figure(figsize=(15, 6))\n",
    "# plt.bar(class_counts.keys(), class_counts.values(), color='forestgreen')\n",
    "# plt.xticks(rotation=90)\n",
    "# plt.title('Number of Images per Class')\n",
    "# plt.xlabel('Class Name')\n",
    "# plt.ylabel('Image Count')\n",
    "# plt.tight_layout()\n",
    "# plt.show()"
   ]
  },
  {
   "cell_type": "markdown",
   "metadata": {},
   "source": [
    "# **Image Characteristics**"
   ]
  },
  {
   "cell_type": "code",
   "execution_count": null,
   "metadata": {
    "execution": {
     "iopub.execute_input": "2025-05-10T15:29:51.999951Z",
     "iopub.status.busy": "2025-05-10T15:29:51.999708Z",
     "iopub.status.idle": "2025-05-10T15:29:52.008850Z",
     "shell.execute_reply": "2025-05-10T15:29:52.008121Z",
     "shell.execute_reply.started": "2025-05-10T15:29:51.999925Z"
    },
    "trusted": true
   },
   "outputs": [],
   "source": [
    "# import cv2\n",
    "# import numpy as np\n",
    "\n",
    "# from collections import Counter"
   ]
  },
  {
   "cell_type": "code",
   "execution_count": null,
   "metadata": {
    "execution": {
     "iopub.execute_input": "2025-05-10T15:29:52.009818Z",
     "iopub.status.busy": "2025-05-10T15:29:52.009579Z",
     "iopub.status.idle": "2025-05-10T15:29:52.020888Z",
     "shell.execute_reply": "2025-05-10T15:29:52.020003Z",
     "shell.execute_reply.started": "2025-05-10T15:29:52.009794Z"
    },
    "trusted": true
   },
   "outputs": [],
   "source": [
    "# image_shapes = []\n",
    "# color_modes = []\n",
    "# file_extensions = []"
   ]
  },
  {
   "cell_type": "code",
   "execution_count": null,
   "metadata": {
    "execution": {
     "iopub.execute_input": "2025-05-10T15:29:52.022242Z",
     "iopub.status.busy": "2025-05-10T15:29:52.021731Z",
     "iopub.status.idle": "2025-05-10T15:29:52.030661Z",
     "shell.execute_reply": "2025-05-10T15:29:52.029893Z",
     "shell.execute_reply.started": "2025-05-10T15:29:52.022221Z"
    },
    "trusted": true
   },
   "outputs": [],
   "source": [
    "# for root, _, files in os.walk(ds):\n",
    "#     for file in files:\n",
    "#         if file.endswith(('.jpg', '.jpeg', '.png')):\n",
    "#             file_path = os.path.join(root, file)\n",
    "#             img = cv2.imread(file_path)\n",
    "#             if img is not None:\n",
    "#                 # ขนาดภาพ\n",
    "#                 h, w, c = img.shape\n",
    "#                 image_shapes.append((w, h))\n",
    "                \n",
    "#                 # ช่องสี\n",
    "#                 color_modes.append(\"RGB\" if c == 3 else \"Grayscale\")\n",
    "                \n",
    "#                 # นามสกุลไฟล์\n",
    "#                 ext = os.path.splitext(file)[1]\n",
    "#                 file_extensions.append(ext)\n"
   ]
  },
  {
   "cell_type": "code",
   "execution_count": null,
   "metadata": {
    "execution": {
     "iopub.execute_input": "2025-05-10T15:29:52.031703Z",
     "iopub.status.busy": "2025-05-10T15:29:52.031456Z",
     "iopub.status.idle": "2025-05-10T15:29:52.040804Z",
     "shell.execute_reply": "2025-05-10T15:29:52.039952Z",
     "shell.execute_reply.started": "2025-05-10T15:29:52.031677Z"
    },
    "trusted": true
   },
   "outputs": [],
   "source": [
    "# shape_counts = Counter(image_shapes)\n",
    "# color_counts = Counter(color_modes)\n",
    "# ext_counts = Counter(file_extensions)\n",
    "\n",
    "# print(\"🔍 Image Sizes:\")\n",
    "# for shape, count in shape_counts.items():\n",
    "#     print(f\"{shape}: {count} images\")\n",
    "\n",
    "# print(\"\\n🎨 Color Modes:\")\n",
    "# for mode, count in color_counts.items():\n",
    "#     print(f\"{mode}: {count} images\")\n",
    "\n",
    "# print(\"\\n🖼️ File Extensions:\")\n",
    "# for ext, count in ext_counts.items():\n",
    "#     print(f\"{ext}: {count} images\")"
   ]
  },
  {
   "cell_type": "code",
   "execution_count": null,
   "metadata": {
    "execution": {
     "iopub.execute_input": "2025-05-10T15:29:52.092656Z",
     "iopub.status.busy": "2025-05-10T15:29:52.092375Z",
     "iopub.status.idle": "2025-05-10T15:29:52.096541Z",
     "shell.execute_reply": "2025-05-10T15:29:52.095774Z",
     "shell.execute_reply.started": "2025-05-10T15:29:52.092635Z"
    },
    "trusted": true
   },
   "outputs": [],
   "source": [
    "# widths = [w for w, h in image_shapes]\n",
    "# heights = [h for w, h in image_shapes]"
   ]
  },
  {
   "cell_type": "code",
   "execution_count": null,
   "metadata": {
    "execution": {
     "iopub.execute_input": "2025-05-10T15:29:52.098164Z",
     "iopub.status.busy": "2025-05-10T15:29:52.097777Z",
     "iopub.status.idle": "2025-05-10T15:29:52.107632Z",
     "shell.execute_reply": "2025-05-10T15:29:52.106765Z",
     "shell.execute_reply.started": "2025-05-10T15:29:52.098139Z"
    },
    "trusted": true
   },
   "outputs": [],
   "source": [
    "# plt.figure(figsize=(12, 5))\n",
    "# plt.hist(widths, bins=30, alpha=0.6, label='Widths')\n",
    "# plt.hist(heights, bins=30, alpha=0.6, label='Heights')\n",
    "# plt.legend()\n",
    "# plt.title(\"Distribution of Image Dimensions\")\n",
    "# plt.xlabel(\"Pixels\")\n",
    "# plt.ylabel(\"Image Count\")\n",
    "# plt.grid(True)\n",
    "# plt.tight_layout()\n",
    "# plt.show()"
   ]
  },
  {
   "cell_type": "markdown",
   "metadata": {},
   "source": [
    "# **Data Quality**"
   ]
  },
  {
   "cell_type": "code",
   "execution_count": null,
   "metadata": {
    "execution": {
     "iopub.execute_input": "2025-05-10T15:29:52.109410Z",
     "iopub.status.busy": "2025-05-10T15:29:52.109171Z",
     "iopub.status.idle": "2025-05-10T15:29:52.118949Z",
     "shell.execute_reply": "2025-05-10T15:29:52.118178Z",
     "shell.execute_reply.started": "2025-05-10T15:29:52.109385Z"
    },
    "trusted": true
   },
   "outputs": [],
   "source": [
    "# import os\n",
    "# import cv2\n",
    "# import numpy as np\n",
    "# import matplotlib.pyplot as plt\n",
    "# from tqdm import tqdm\n",
    "# from PIL import Image\n",
    "# import warnings\n",
    "# warnings.filterwarnings('ignore')"
   ]
  },
  {
   "cell_type": "code",
   "execution_count": null,
   "metadata": {
    "execution": {
     "iopub.execute_input": "2025-05-10T15:29:52.120492Z",
     "iopub.status.busy": "2025-05-10T15:29:52.120222Z",
     "iopub.status.idle": "2025-05-10T15:29:52.131822Z",
     "shell.execute_reply": "2025-05-10T15:29:52.131174Z",
     "shell.execute_reply.started": "2025-05-10T15:29:52.120466Z"
    },
    "trusted": true
   },
   "outputs": [],
   "source": [
    "# blur_scores = []\n",
    "# dark_scores = []\n",
    "# noise_scores = []\n",
    "# bad_images = []\n",
    "# blurry_images_sample = []\n",
    "# dark_images_sample = []"
   ]
  },
  {
   "cell_type": "code",
   "execution_count": null,
   "metadata": {
    "execution": {
     "iopub.execute_input": "2025-05-10T15:29:52.132860Z",
     "iopub.status.busy": "2025-05-10T15:29:52.132669Z",
     "iopub.status.idle": "2025-05-10T15:29:52.142556Z",
     "shell.execute_reply": "2025-05-10T15:29:52.141881Z",
     "shell.execute_reply.started": "2025-05-10T15:29:52.132844Z"
    },
    "trusted": true
   },
   "outputs": [],
   "source": [
    "# def is_blurry(img, threshold=100.0):\n",
    "#     gray = cv2.cvtColor(img, cv2.COLOR_BGR2GRAY)\n",
    "#     lap_var = cv2.Laplacian(gray, cv2.CV_64F)\n",
    "#     return lap_var < threshold, lap_var"
   ]
  },
  {
   "cell_type": "code",
   "execution_count": null,
   "metadata": {
    "execution": {
     "iopub.execute_input": "2025-05-10T15:29:52.143687Z",
     "iopub.status.busy": "2025-05-10T15:29:52.143411Z",
     "iopub.status.idle": "2025-05-10T15:29:52.153514Z",
     "shell.execute_reply": "2025-05-10T15:29:52.152698Z",
     "shell.execute_reply.started": "2025-05-10T15:29:52.143662Z"
    },
    "trusted": true
   },
   "outputs": [],
   "source": [
    "# def is_dark(image, threshold=50):\n",
    "#     gray = cv2.cvtColor(image, cv2.COLOR_BGR2GRAY)\n",
    "#     mean_brightness = np.mean(gray)\n",
    "#     return mean_brightness < threshold, mean_brightness"
   ]
  },
  {
   "cell_type": "code",
   "execution_count": null,
   "metadata": {
    "execution": {
     "iopub.execute_input": "2025-05-10T15:29:52.154464Z",
     "iopub.status.busy": "2025-05-10T15:29:52.154214Z",
     "iopub.status.idle": "2025-05-10T15:29:52.163306Z",
     "shell.execute_reply": "2025-05-10T15:29:52.162436Z",
     "shell.execute_reply.started": "2025-05-10T15:29:52.154445Z"
    },
    "trusted": true
   },
   "outputs": [],
   "source": [
    "# def estimate_noise(image):\n",
    "#     gray = cv2.cvtColor(image, cv2.COLOR_BGR2GRAY)\n",
    "#     noise = np.std(gray)\n",
    "#     return noise"
   ]
  },
  {
   "cell_type": "code",
   "execution_count": null,
   "metadata": {
    "execution": {
     "iopub.execute_input": "2025-05-10T15:29:52.165616Z",
     "iopub.status.busy": "2025-05-10T15:29:52.165311Z",
     "iopub.status.idle": "2025-05-10T15:29:52.174204Z",
     "shell.execute_reply": "2025-05-10T15:29:52.173361Z",
     "shell.execute_reply.started": "2025-05-10T15:29:52.165585Z"
    },
    "trusted": true
   },
   "outputs": [],
   "source": [
    "# for root, dirs, files in os.walk(ds):\n",
    "#     if 'Potato' in root or 'Pepper' in root:\n",
    "#         continue\n",
    "\n",
    "#     for file in tqdm(files):\n",
    "#         if file.endswith(('.jpg', '.jpeg', '.png')):\n",
    "#             path = os.path.join(root, file)\n",
    "#             img = cv2.imread(path)\n",
    "\n",
    "#             if img is None:\n",
    "#                 bad_images.append((path, 'Corrupted'))\n",
    "#                 continue\n",
    "\n",
    "#             # Blur detection\n",
    "#             # blurry, score_blur = is_blurry(img)\n",
    "#             # blur_scores.append(score_blur)\n",
    "#             # if blurry:\n",
    "#             #     bad_images.append((path, f'Blurry: {score_blur:.2f}'))\n",
    "#             #     if len(blurry_images_sample) < 9:\n",
    "#             #         blurry_images_sample.append((img, path))\n",
    "\n",
    "#             # Dark detection\n",
    "#             dark, score_dark = is_dark(img)\n",
    "#             dark_scores.append(score_dark)\n",
    "#             if dark:\n",
    "#                 bad_images.append((path, f'Dark: {score_dark:.2f}'))\n",
    "#                 if len(dark_images_sample) < 9:\n",
    "#                     dark_images_sample.append((img, path))\n",
    "\n",
    "#             # Noise estimation\n",
    "#             score_noise = estimate_noise(img)\n",
    "#             noise_scores.append(score_noise)"
   ]
  },
  {
   "cell_type": "code",
   "execution_count": null,
   "metadata": {
    "execution": {
     "iopub.execute_input": "2025-05-10T15:29:52.175341Z",
     "iopub.status.busy": "2025-05-10T15:29:52.175072Z",
     "iopub.status.idle": "2025-05-10T15:29:52.184535Z",
     "shell.execute_reply": "2025-05-10T15:29:52.183762Z",
     "shell.execute_reply.started": "2025-05-10T15:29:52.175323Z"
    },
    "trusted": true
   },
   "outputs": [],
   "source": [
    "# plt.figure(figsize=(8, 4))\n",
    "# plt.hist(blur_scores, bins=30, color='orange', edgecolor='black')\n",
    "# plt.title('Blur Score Distribution (Laplacian Variance)')\n",
    "# plt.xlabel('Blur Score')\n",
    "# plt.ylabel('Number of Images')\n",
    "# plt.grid(True, linestyle='--', alpha=0.7)\n",
    "# plt.tight_layout()\n",
    "# plt.show()"
   ]
  },
  {
   "cell_type": "code",
   "execution_count": null,
   "metadata": {
    "execution": {
     "iopub.execute_input": "2025-05-10T15:29:52.185601Z",
     "iopub.status.busy": "2025-05-10T15:29:52.185299Z",
     "iopub.status.idle": "2025-05-10T15:29:52.197952Z",
     "shell.execute_reply": "2025-05-10T15:29:52.197228Z",
     "shell.execute_reply.started": "2025-05-10T15:29:52.185550Z"
    },
    "trusted": true
   },
   "outputs": [],
   "source": [
    "# plt.figure(figsize=(8, 4))\n",
    "# plt.hist(dark_scores, bins=30, color='blue', edgecolor='black')\n",
    "# plt.title('Brightness Distribution (Mean Pixel Intensity)')\n",
    "# plt.xlabel('Brightness Score')\n",
    "# plt.ylabel('Number of Images')\n",
    "# plt.grid(True, linestyle='--', alpha=0.7)\n",
    "# plt.tight_layout()\n",
    "# plt.show()"
   ]
  },
  {
   "cell_type": "code",
   "execution_count": null,
   "metadata": {
    "execution": {
     "iopub.execute_input": "2025-05-10T15:29:52.199011Z",
     "iopub.status.busy": "2025-05-10T15:29:52.198756Z",
     "iopub.status.idle": "2025-05-10T15:29:52.210516Z",
     "shell.execute_reply": "2025-05-10T15:29:52.209839Z",
     "shell.execute_reply.started": "2025-05-10T15:29:52.198993Z"
    },
    "trusted": true
   },
   "outputs": [],
   "source": [
    "# plt.figure(figsize=(8, 4))\n",
    "# plt.hist(noise_scores, bins=30, color='green', edgecolor='black')\n",
    "# plt.title('Noise Score Distribution (Std of Grayscale)')\n",
    "# plt.xlabel('Noise Score')\n",
    "# plt.ylabel('Number of Images')\n",
    "# plt.grid(True, linestyle='--', alpha=0.7)\n",
    "# plt.tight_layout()\n",
    "# plt.show()"
   ]
  },
  {
   "cell_type": "markdown",
   "metadata": {},
   "source": [
    "# **Data Augmentation**"
   ]
  },
  {
   "cell_type": "code",
   "execution_count": 18,
   "metadata": {
    "execution": {
     "iopub.execute_input": "2025-05-11T08:23:06.188178Z",
     "iopub.status.busy": "2025-05-11T08:23:06.187771Z",
     "iopub.status.idle": "2025-05-11T08:23:06.204984Z",
     "shell.execute_reply": "2025-05-11T08:23:06.204250Z",
     "shell.execute_reply.started": "2025-05-11T08:23:06.188149Z"
    },
    "trusted": true
   },
   "outputs": [],
   "source": [
    "import os\n",
    "import shutil\n",
    "import random\n",
    "from collections import defaultdict\n",
    "from tqdm import tqdm\n",
    "from PIL import Image\n",
    "import torch\n",
    "from torchvision import transforms\n",
    "from torchvision.transforms.functional import to_pil_image\n",
    "from sklearn.model_selection import train_test_split"
   ]
  },
  {
   "cell_type": "code",
   "execution_count": 19,
   "metadata": {
    "execution": {
     "iopub.execute_input": "2025-05-11T08:23:06.379660Z",
     "iopub.status.busy": "2025-05-11T08:23:06.379370Z",
     "iopub.status.idle": "2025-05-11T08:23:06.383780Z",
     "shell.execute_reply": "2025-05-11T08:23:06.382847Z",
     "shell.execute_reply.started": "2025-05-11T08:23:06.379638Z"
    },
    "trusted": true
   },
   "outputs": [],
   "source": [
    "DATA_DIR = \"/kaggle/input/plantdisease/PlantVillage\"\n",
    "SPLIT_DIR = \"/kaggle/working/plantvillage_split_augmented\"\n",
    "AUG_THRESHOLD = 4000\n",
    "EXCLUDED_CLASSES = ['Potato', 'Pepper']\n",
    "random.seed(152)"
   ]
  },
  {
   "cell_type": "code",
   "execution_count": 20,
   "metadata": {
    "execution": {
     "iopub.execute_input": "2025-05-11T08:23:07.367074Z",
     "iopub.status.busy": "2025-05-11T08:23:07.366756Z",
     "iopub.status.idle": "2025-05-11T08:23:07.372214Z",
     "shell.execute_reply": "2025-05-11T08:23:07.371042Z",
     "shell.execute_reply.started": "2025-05-11T08:23:07.367051Z"
    },
    "trusted": true
   },
   "outputs": [],
   "source": [
    "augmentation_transform = transforms.Compose([\n",
    "    transforms.RandomHorizontalFlip(),\n",
    "    transforms.RandomRotation(45),\n",
    "    transforms.ColorJitter(brightness=0.4, contrast=0.4, saturation=0.4, hue=0.2),\n",
    "    transforms.RandomResizedCrop(256, scale=(0.8, 1.0)),\n",
    "    transforms.ToTensor()\n",
    "])"
   ]
  },
  {
   "cell_type": "code",
   "execution_count": 21,
   "metadata": {
    "execution": {
     "iopub.execute_input": "2025-05-11T08:23:07.583839Z",
     "iopub.status.busy": "2025-05-11T08:23:07.583545Z",
     "iopub.status.idle": "2025-05-11T08:23:09.570072Z",
     "shell.execute_reply": "2025-05-11T08:23:09.569091Z",
     "shell.execute_reply.started": "2025-05-11T08:23:07.583817Z"
    },
    "trusted": true
   },
   "outputs": [],
   "source": [
    "def should_skip_class(class_name):\n",
    "    return any(ex in class_name for ex in EXCLUDED_CLASSES)\n",
    "\n",
    "class_image_dict = defaultdict(list)\n",
    "for class_name in os.listdir(DATA_DIR):\n",
    "    if should_skip_class(class_name):\n",
    "        continue\n",
    "    class_path = os.path.join(DATA_DIR, class_name)\n",
    "    if not os.path.isdir(class_path):\n",
    "        continue\n",
    "    for file in os.listdir(class_path):\n",
    "        if file.lower().endswith(('.jpg', '.jpeg', '.png')):\n",
    "            class_image_dict[class_name].append(os.path.join(class_path, file))"
   ]
  },
  {
   "cell_type": "code",
   "execution_count": 22,
   "metadata": {
    "execution": {
     "iopub.execute_input": "2025-05-11T08:23:09.571610Z",
     "iopub.status.busy": "2025-05-11T08:23:09.571263Z",
     "iopub.status.idle": "2025-05-11T08:25:17.710091Z",
     "shell.execute_reply": "2025-05-11T08:25:17.709091Z",
     "shell.execute_reply.started": "2025-05-11T08:23:09.571579Z"
    },
    "trusted": true
   },
   "outputs": [],
   "source": [
    "# Train, Valid, Test\n",
    "# 70, 15, 15\n",
    "# for class_name, paths in class_image_dict.items():\n",
    "#     train_val, test = train_test_split(paths, test_size=0.15, random_state=42)\n",
    "#     train, val = train_test_split(train_val, test_size=0.1765, random_state=42)  # 0.1765*0.85 ≈ 0.15\n",
    "\n",
    "#     for subset_name, subset in zip(['train', 'val', 'test'], [train, val, test]):\n",
    "#         subset_dir = os.path.join(SPLIT_DIR, subset_name, class_name)\n",
    "#         os.makedirs(subset_dir, exist_ok=True)\n",
    "#         for img_path in subset:\n",
    "#             shutil.copy(img_path, os.path.join(subset_dir, os.path.basename(img_path)))\n",
    "\n",
    "# Train, Valid, Test\n",
    "# 50%, 25%, 25%\n",
    "for class_name, paths in class_image_dict.items():\n",
    "    train, test = train_test_split(paths, test_size=0.5, random_state=42)\n",
    "    train, val = train_test_split(train, test_size=0.5, random_state=42)  # 50% of the 50% (25% of total)\n",
    "\n",
    "    for subset_name, subset in zip(['train', 'val', 'test'], [train, val, test]):\n",
    "        subset_dir = os.path.join(SPLIT_DIR, subset_name, class_name)\n",
    "        os.makedirs(subset_dir, exist_ok=True)\n",
    "        for img_path in subset:\n",
    "            shutil.copy(img_path, os.path.join(subset_dir, os.path.basename(img_path)))"
   ]
  },
  {
   "cell_type": "code",
   "execution_count": 23,
   "metadata": {
    "execution": {
     "iopub.execute_input": "2025-05-11T08:25:17.712183Z",
     "iopub.status.busy": "2025-05-11T08:25:17.711787Z",
     "iopub.status.idle": "2025-05-11T08:33:03.441165Z",
     "shell.execute_reply": "2025-05-11T08:33:03.440217Z",
     "shell.execute_reply.started": "2025-05-11T08:25:17.712149Z"
    },
    "trusted": true
   },
   "outputs": [
    {
     "name": "stdout",
     "output_type": "stream",
     "text": [
      "Augmenting class: Tomato_Septoria_leaf_spot (442 → 4000)\n"
     ]
    },
    {
     "name": "stderr",
     "output_type": "stream",
     "text": [
      "Augmenting Tomato_Septoria_leaf_spot: 100%|██████████| 3558/3558 [00:46<00:00, 75.88it/s]\n"
     ]
    },
    {
     "name": "stdout",
     "output_type": "stream",
     "text": [
      "Augmenting class: Tomato_Spider_mites_Two_spotted_spider_mite (419 → 4000)\n"
     ]
    },
    {
     "name": "stderr",
     "output_type": "stream",
     "text": [
      "Augmenting Tomato_Spider_mites_Two_spotted_spider_mite: 100%|██████████| 3581/3581 [00:46<00:00, 77.25it/s]\n"
     ]
    },
    {
     "name": "stdout",
     "output_type": "stream",
     "text": [
      "Augmenting class: Tomato_healthy (397 → 4000)\n"
     ]
    },
    {
     "name": "stderr",
     "output_type": "stream",
     "text": [
      "Augmenting Tomato_healthy: 100%|██████████| 3603/3603 [00:46<00:00, 77.12it/s]\n"
     ]
    },
    {
     "name": "stdout",
     "output_type": "stream",
     "text": [
      "Augmenting class: Tomato_Early_blight (250 → 4000)\n"
     ]
    },
    {
     "name": "stderr",
     "output_type": "stream",
     "text": [
      "Augmenting Tomato_Early_blight: 100%|██████████| 3750/3750 [00:47<00:00, 79.27it/s]\n"
     ]
    },
    {
     "name": "stdout",
     "output_type": "stream",
     "text": [
      "Augmenting class: Tomato_Late_blight (477 → 4000)\n"
     ]
    },
    {
     "name": "stderr",
     "output_type": "stream",
     "text": [
      "Augmenting Tomato_Late_blight: 100%|██████████| 3523/3523 [00:44<00:00, 79.01it/s]\n"
     ]
    },
    {
     "name": "stdout",
     "output_type": "stream",
     "text": [
      "Augmenting class: Tomato_Bacterial_spot (531 → 4000)\n"
     ]
    },
    {
     "name": "stderr",
     "output_type": "stream",
     "text": [
      "Augmenting Tomato_Bacterial_spot: 100%|██████████| 3469/3469 [00:44<00:00, 78.08it/s]\n"
     ]
    },
    {
     "name": "stdout",
     "output_type": "stream",
     "text": [
      "Augmenting class: Tomato_Leaf_Mold (238 → 4000)\n"
     ]
    },
    {
     "name": "stderr",
     "output_type": "stream",
     "text": [
      "Augmenting Tomato_Leaf_Mold: 100%|██████████| 3762/3762 [00:48<00:00, 77.08it/s]\n"
     ]
    },
    {
     "name": "stdout",
     "output_type": "stream",
     "text": [
      "Augmenting class: Tomato__Tomato_YellowLeaf__Curl_Virus (802 → 4000)\n"
     ]
    },
    {
     "name": "stderr",
     "output_type": "stream",
     "text": [
      "Augmenting Tomato__Tomato_YellowLeaf__Curl_Virus: 100%|██████████| 3198/3198 [00:41<00:00, 76.95it/s]\n"
     ]
    },
    {
     "name": "stdout",
     "output_type": "stream",
     "text": [
      "Augmenting class: Tomato__Tomato_mosaic_virus (93 → 4000)\n"
     ]
    },
    {
     "name": "stderr",
     "output_type": "stream",
     "text": [
      "Augmenting Tomato__Tomato_mosaic_virus: 100%|██████████| 3907/3907 [00:51<00:00, 75.72it/s]\n"
     ]
    },
    {
     "name": "stdout",
     "output_type": "stream",
     "text": [
      "Augmenting class: Tomato__Target_Spot (351 → 4000)\n"
     ]
    },
    {
     "name": "stderr",
     "output_type": "stream",
     "text": [
      "Augmenting Tomato__Target_Spot: 100%|██████████| 3649/3649 [00:47<00:00, 76.94it/s]"
     ]
    },
    {
     "name": "stdout",
     "output_type": "stream",
     "text": [
      "Split and augmentation completed.\n"
     ]
    },
    {
     "name": "stderr",
     "output_type": "stream",
     "text": [
      "\n"
     ]
    }
   ],
   "source": [
    "train_dir = os.path.join(SPLIT_DIR, 'train')\n",
    "for class_name in os.listdir(train_dir):\n",
    "    class_path = os.path.join(train_dir, class_name)\n",
    "    images = [f for f in os.listdir(class_path) if f.lower().endswith(('.jpg', '.jpeg', '.png'))]\n",
    "    count = len(images)\n",
    "    \n",
    "    if count >= AUG_THRESHOLD or should_skip_class(class_name):\n",
    "        continue\n",
    "\n",
    "    print(f\"Augmenting class: {class_name} ({count} → {AUG_THRESHOLD})\")\n",
    "    num_to_generate = AUG_THRESHOLD - count\n",
    "\n",
    "    for i in tqdm(range(num_to_generate), desc=f\"Augmenting {class_name}\"):\n",
    "        img_name = random.choice(images)\n",
    "        img_path = os.path.join(class_path, img_name)\n",
    "        img = Image.open(img_path).convert(\"RGB\")\n",
    "        augmented = augmentation_transform(img)\n",
    "\n",
    "        aug_name = f\"aug_{i}_{img_name}\"\n",
    "        aug_path = os.path.join(class_path, aug_name)\n",
    "        augmented_pil = to_pil_image(augmented)\n",
    "        augmented_pil.save(aug_path)\n",
    "\n",
    "print(\"Split and augmentation completed.\")"
   ]
  },
  {
   "cell_type": "markdown",
   "metadata": {},
   "source": [
    "# **Train**"
   ]
  },
  {
   "cell_type": "code",
   "execution_count": 24,
   "metadata": {
    "execution": {
     "iopub.execute_input": "2025-05-11T08:33:03.443101Z",
     "iopub.status.busy": "2025-05-11T08:33:03.442714Z",
     "iopub.status.idle": "2025-05-11T08:33:03.447217Z",
     "shell.execute_reply": "2025-05-11T08:33:03.446502Z",
     "shell.execute_reply.started": "2025-05-11T08:33:03.443066Z"
    },
    "trusted": true
   },
   "outputs": [],
   "source": [
    "import os\n",
    "import torch\n",
    "import torch.nn as nn\n",
    "import torch.optim as optim\n",
    "from torch.utils.data import DataLoader\n",
    "from torchvision import datasets, models, transforms\n",
    "import matplotlib.pyplot as plt\n",
    "from sklearn.metrics import classification_report, confusion_matrix\n",
    "import seaborn as sns\n",
    "import numpy as np\n",
    "import time\n",
    "from tqdm import tqdm"
   ]
  },
  {
   "cell_type": "code",
   "execution_count": 25,
   "metadata": {
    "execution": {
     "iopub.execute_input": "2025-05-11T08:33:03.448785Z",
     "iopub.status.busy": "2025-05-11T08:33:03.448457Z",
     "iopub.status.idle": "2025-05-11T08:33:03.465142Z",
     "shell.execute_reply": "2025-05-11T08:33:03.464431Z",
     "shell.execute_reply.started": "2025-05-11T08:33:03.448753Z"
    },
    "trusted": true
   },
   "outputs": [],
   "source": [
    "device = torch.device(\"cuda\" if torch.cuda.is_available() else \"cpu\")"
   ]
  },
  {
   "cell_type": "code",
   "execution_count": 26,
   "metadata": {
    "execution": {
     "iopub.execute_input": "2025-05-11T08:33:03.466297Z",
     "iopub.status.busy": "2025-05-11T08:33:03.465992Z",
     "iopub.status.idle": "2025-05-11T08:33:03.483469Z",
     "shell.execute_reply": "2025-05-11T08:33:03.482587Z",
     "shell.execute_reply.started": "2025-05-11T08:33:03.466277Z"
    },
    "trusted": true
   },
   "outputs": [],
   "source": [
    "BASE_DIR = \"/kaggle/working/plantvillage_split_augmented\"\n",
    "TRAIN_DIR = os.path.join(BASE_DIR, \"train\")\n",
    "VAL_DIR = os.path.join(BASE_DIR, \"val\")\n",
    "TEST_DIR = os.path.join(BASE_DIR, \"test\")"
   ]
  },
  {
   "cell_type": "code",
   "execution_count": 27,
   "metadata": {
    "execution": {
     "iopub.execute_input": "2025-05-11T08:33:03.485733Z",
     "iopub.status.busy": "2025-05-11T08:33:03.485523Z",
     "iopub.status.idle": "2025-05-11T08:33:03.497652Z",
     "shell.execute_reply": "2025-05-11T08:33:03.496765Z",
     "shell.execute_reply.started": "2025-05-11T08:33:03.485705Z"
    },
    "trusted": true
   },
   "outputs": [],
   "source": [
    "train_transform = transforms.Compose([\n",
    "    transforms.RandomResizedCrop(224),\n",
    "    transforms.ToTensor(),\n",
    "    transforms.Normalize([0.485, 0.456, 0.406], [0.229, 0.224, 0.225])\n",
    "])\n",
    "\n",
    "val_test_transform = transforms.Compose([\n",
    "    transforms.Resize(256),\n",
    "    transforms.CenterCrop(224),\n",
    "    transforms.ToTensor(),\n",
    "    transforms.Normalize([0.485, 0.456, 0.406], [0.229, 0.224, 0.225])\n",
    "])"
   ]
  },
  {
   "cell_type": "code",
   "execution_count": 28,
   "metadata": {
    "execution": {
     "iopub.execute_input": "2025-05-11T08:33:03.499121Z",
     "iopub.status.busy": "2025-05-11T08:33:03.498787Z",
     "iopub.status.idle": "2025-05-11T08:33:03.647940Z",
     "shell.execute_reply": "2025-05-11T08:33:03.647070Z",
     "shell.execute_reply.started": "2025-05-11T08:33:03.499093Z"
    },
    "trusted": true
   },
   "outputs": [],
   "source": [
    "train_data = datasets.ImageFolder(TRAIN_DIR, transform=train_transform)\n",
    "val_data = datasets.ImageFolder(VAL_DIR, transform=val_test_transform)\n",
    "\n",
    "train_loader = DataLoader(train_data, batch_size=32, shuffle=True)\n",
    "val_loader = DataLoader(val_data, batch_size=32)"
   ]
  },
  {
   "cell_type": "code",
   "execution_count": 29,
   "metadata": {
    "execution": {
     "iopub.execute_input": "2025-05-11T08:33:03.649227Z",
     "iopub.status.busy": "2025-05-11T08:33:03.648963Z",
     "iopub.status.idle": "2025-05-11T08:33:03.763632Z",
     "shell.execute_reply": "2025-05-11T08:33:03.762768Z",
     "shell.execute_reply.started": "2025-05-11T08:33:03.649206Z"
    },
    "trusted": true
   },
   "outputs": [],
   "source": [
    "model = models.mobilenet_v2(pretrained=True)\n",
    "model.classifier[1] = nn.Linear(model.classifier[1].in_features, len(train_data.classes))\n",
    "model = model.to(device)"
   ]
  },
  {
   "cell_type": "code",
   "execution_count": 30,
   "metadata": {
    "execution": {
     "iopub.execute_input": "2025-05-11T08:33:03.764802Z",
     "iopub.status.busy": "2025-05-11T08:33:03.764514Z",
     "iopub.status.idle": "2025-05-11T08:33:03.770078Z",
     "shell.execute_reply": "2025-05-11T08:33:03.769137Z",
     "shell.execute_reply.started": "2025-05-11T08:33:03.764773Z"
    },
    "trusted": true
   },
   "outputs": [],
   "source": [
    "criterion = nn.CrossEntropyLoss()\n",
    "optimizer = optim.Adam(model.parameters(), lr=5e-4)"
   ]
  },
  {
   "cell_type": "code",
   "execution_count": null,
   "metadata": {
    "execution": {
     "iopub.execute_input": "2025-05-07T13:16:48.998208Z",
     "iopub.status.busy": "2025-05-07T13:16:48.997864Z",
     "iopub.status.idle": "2025-05-07T13:16:49.007353Z",
     "shell.execute_reply": "2025-05-07T13:16:49.006371Z",
     "shell.execute_reply.started": "2025-05-07T13:16:48.998180Z"
    },
    "trusted": true
   },
   "outputs": [],
   "source": [
    "def train_model(num_epochs=10):\n",
    "    print(\"Start\")\n",
    "    start_time = time.time()\n",
    "    \n",
    "    best_val_acc = 0.0\n",
    "    history = {\"train_loss\": [], \"val_loss\": [], \"train_acc\": [], \"val_acc\": []}\n",
    "    \n",
    "    for epoch in range(num_epochs):\n",
    "        epoch_start = time.time()\n",
    "        \n",
    "        model.train()\n",
    "        running_loss = 0.0\n",
    "        correct = 0\n",
    "        \n",
    "        print(f\"\\nEpoch {epoch+1}/{num_epochs}\")\n",
    "        train_loader_tqdm = tqdm(train_loader, desc=\"Training\", leave=False)\n",
    "        for imgs, labels in train_loader_tqdm:\n",
    "            imgs, labels = imgs.to(device), labels.to(device)\n",
    "            optimizer.zero_grad()\n",
    "            outputs = model(imgs)\n",
    "            loss = criterion(outputs, labels)\n",
    "            loss.backward()\n",
    "            optimizer.step()\n",
    "            running_loss += loss.item() * imgs.size(0)\n",
    "            correct += (outputs.argmax(1) == labels).sum().item()\n",
    "            \n",
    "            train_loader_tqdm.set_postfix(loss=loss.item())\n",
    "\n",
    "        train_loss = running_loss / len(train_loader.dataset)\n",
    "        train_acc = correct / len(train_loader.dataset)\n",
    "\n",
    "        torch.save(model.state_dict(), f'model_{epoch}.pth')\n",
    "        \n",
    "        # Validation\n",
    "        model.eval()\n",
    "        val_loss = 0.0\n",
    "        val_correct = 0\n",
    "        val_loader_tqdm = tqdm(val_loader, desc=\"Validation\", leave=False)\n",
    "        with torch.no_grad():\n",
    "            for imgs, labels in val_loader_tqdm:\n",
    "                imgs, labels = imgs.to(device), labels.to(device)\n",
    "                outputs = model(imgs)\n",
    "                loss = criterion(outputs, labels)\n",
    "                val_loss += loss.item() * imgs.size(0)\n",
    "                val_correct += (outputs.argmax(1) == labels).sum().item()\n",
    "                \n",
    "                val_loader_tqdm.set_postfix(loss=loss.item())\n",
    "\n",
    "        val_loss = val_loss / len(val_loader.dataset)\n",
    "        val_acc = val_correct / len(val_loader.dataset)\n",
    "\n",
    "        # Save best model\n",
    "        if val_acc > best_val_acc:\n",
    "            best_val_acc = val_acc\n",
    "            torch.save(model.state_dict(), \"best_model.pth\")\n",
    "\n",
    "        # Logging\n",
    "        history[\"train_loss\"].append(train_loss)\n",
    "        history[\"val_loss\"].append(val_loss)\n",
    "        history[\"train_acc\"].append(train_acc)\n",
    "        history[\"val_acc\"].append(val_acc)\n",
    "\n",
    "        # Time estimation\n",
    "        epoch_duration = time.time() - epoch_start\n",
    "        total_elapsed = time.time() - start_time\n",
    "        eta = epoch_duration * (num_epochs - epoch - 1)\n",
    "        \n",
    "        print(f\"Epoch {epoch+1}/{num_epochs} | \"\n",
    "              f\"Train Loss: {train_loss:.4f} Acc: {train_acc:.4f} | \"\n",
    "              f\"Val Loss: {val_loss:.4f} Acc: {val_acc:.4f} | \"\n",
    "              f\"Time/Epoch: {epoch_duration:.1f}s | ETA: {eta/60:.2f} min\")\n",
    "\n",
    "    total_time = time.time() - start_time\n",
    "    print(f\"\\nTraining completed in {total_time/60:.2f} minutes.\")\n",
    "\n",
    "    return history"
   ]
  },
  {
   "cell_type": "code",
   "execution_count": null,
   "metadata": {
    "execution": {
     "iopub.execute_input": "2025-05-07T13:16:50.256717Z",
     "iopub.status.busy": "2025-05-07T13:16:50.256417Z",
     "iopub.status.idle": "2025-05-07T14:02:31.874231Z",
     "shell.execute_reply": "2025-05-07T14:02:31.873091Z",
     "shell.execute_reply.started": "2025-05-07T13:16:50.256692Z"
    },
    "trusted": true
   },
   "outputs": [],
   "source": [
    "history = train_model(num_epochs=500)"
   ]
  },
  {
   "cell_type": "markdown",
   "metadata": {},
   "source": [
    "# **Evalutate**"
   ]
  },
  {
   "cell_type": "code",
   "execution_count": 31,
   "metadata": {
    "execution": {
     "iopub.execute_input": "2025-05-11T08:33:13.890887Z",
     "iopub.status.busy": "2025-05-11T08:33:13.890618Z",
     "iopub.status.idle": "2025-05-11T08:33:13.895422Z",
     "shell.execute_reply": "2025-05-11T08:33:13.894413Z",
     "shell.execute_reply.started": "2025-05-11T08:33:13.890867Z"
    },
    "trusted": true
   },
   "outputs": [],
   "source": [
    "import os\n",
    "import torch\n",
    "import torch.nn as nn\n",
    "import torch.optim as optim\n",
    "from torch.utils.data import DataLoader\n",
    "from torchvision import datasets, models, transforms\n",
    "import matplotlib.pyplot as plt\n",
    "from sklearn.metrics import classification_report, confusion_matrix\n",
    "import seaborn as sns\n",
    "import numpy as np\n",
    "import time\n",
    "from tqdm import tqdm"
   ]
  },
  {
   "cell_type": "code",
   "execution_count": 32,
   "metadata": {
    "execution": {
     "iopub.execute_input": "2025-05-11T08:33:14.200585Z",
     "iopub.status.busy": "2025-05-11T08:33:14.200239Z",
     "iopub.status.idle": "2025-05-11T08:33:14.204600Z",
     "shell.execute_reply": "2025-05-11T08:33:14.203642Z",
     "shell.execute_reply.started": "2025-05-11T08:33:14.200556Z"
    },
    "trusted": true
   },
   "outputs": [],
   "source": [
    "device = torch.device(\"cuda\" if torch.cuda.is_available() else \"cpu\")"
   ]
  },
  {
   "cell_type": "code",
   "execution_count": 33,
   "metadata": {
    "execution": {
     "iopub.execute_input": "2025-05-11T08:33:14.628982Z",
     "iopub.status.busy": "2025-05-11T08:33:14.628679Z",
     "iopub.status.idle": "2025-05-11T08:33:14.633213Z",
     "shell.execute_reply": "2025-05-11T08:33:14.632312Z",
     "shell.execute_reply.started": "2025-05-11T08:33:14.628959Z"
    },
    "trusted": true
   },
   "outputs": [],
   "source": [
    "val_test_transform = transforms.Compose([\n",
    "    transforms.Resize(256),\n",
    "    transforms.CenterCrop(224),\n",
    "    transforms.ToTensor(),\n",
    "    transforms.Normalize([0.485, 0.456, 0.406], [0.229, 0.224, 0.225])\n",
    "])"
   ]
  },
  {
   "cell_type": "code",
   "execution_count": 34,
   "metadata": {
    "execution": {
     "iopub.execute_input": "2025-05-11T08:33:15.290410Z",
     "iopub.status.busy": "2025-05-11T08:33:15.290111Z",
     "iopub.status.idle": "2025-05-11T08:33:15.319749Z",
     "shell.execute_reply": "2025-05-11T08:33:15.319012Z",
     "shell.execute_reply.started": "2025-05-11T08:33:15.290389Z"
    },
    "trusted": true
   },
   "outputs": [],
   "source": [
    "BASE_DIR = \"/kaggle/working/plantvillage_split_augmented\"\n",
    "TEST_DIR = os.path.join(BASE_DIR, \"test\")\n",
    "\n",
    "test_data = datasets.ImageFolder(TEST_DIR, transform=val_test_transform)\n",
    "test_loader = DataLoader(test_data, batch_size=32)"
   ]
  },
  {
   "cell_type": "code",
   "execution_count": 35,
   "metadata": {
    "execution": {
     "iopub.execute_input": "2025-05-11T08:33:17.258741Z",
     "iopub.status.busy": "2025-05-11T08:33:17.258469Z",
     "iopub.status.idle": "2025-05-11T08:33:17.533968Z",
     "shell.execute_reply": "2025-05-11T08:33:17.533040Z",
     "shell.execute_reply.started": "2025-05-11T08:33:17.258720Z"
    },
    "trusted": true
   },
   "outputs": [
    {
     "name": "stderr",
     "output_type": "stream",
     "text": [
      "<ipython-input-35-75afe3571ad3>:3: FutureWarning: You are using `torch.load` with `weights_only=False` (the current default value), which uses the default pickle module implicitly. It is possible to construct malicious pickle data which will execute arbitrary code during unpickling (See https://github.com/pytorch/pytorch/blob/main/SECURITY.md#untrusted-models for more details). In a future release, the default value for `weights_only` will be flipped to `True`. This limits the functions that could be executed during unpickling. Arbitrary objects will no longer be allowed to be loaded via this mode unless they are explicitly allowlisted by the user via `torch.serialization.add_safe_globals`. We recommend you start setting `weights_only=True` for any use case where you don't have full control of the loaded file. Please open an issue on GitHub for any issues related to this experimental feature.\n",
      "  model.load_state_dict(torch.load(\"/kaggle/input/aib5-models/pytorch/default/2/best_model.pth\"))\n"
     ]
    }
   ],
   "source": [
    "model = models.mobilenet_v2(pretrained=True)\n",
    "model.classifier[1] = nn.Linear(model.classifier[1].in_features, len(test_data.classes))\n",
    "model.load_state_dict(torch.load(\"/kaggle/input/aib5-models/pytorch/default/2/best_model.pth\"))\n",
    "model = model.to(device)"
   ]
  },
  {
   "cell_type": "code",
   "execution_count": 36,
   "metadata": {
    "execution": {
     "iopub.execute_input": "2025-05-11T08:33:17.826298Z",
     "iopub.status.busy": "2025-05-11T08:33:17.825934Z",
     "iopub.status.idle": "2025-05-11T08:33:38.294087Z",
     "shell.execute_reply": "2025-05-11T08:33:38.293168Z",
     "shell.execute_reply.started": "2025-05-11T08:33:17.826269Z"
    },
    "trusted": true
   },
   "outputs": [
    {
     "name": "stdout",
     "output_type": "stream",
     "text": [
      "                                             precision    recall  f1-score   support\n",
      "\n",
      "                      Tomato_Bacterial_spot       0.99      0.99      0.99      1064\n",
      "                        Tomato_Early_blight       0.99      0.94      0.97       500\n",
      "                         Tomato_Late_blight       0.99      0.99      0.99       955\n",
      "                           Tomato_Leaf_Mold       0.99      0.99      0.99       476\n",
      "                  Tomato_Septoria_leaf_spot       0.99      1.00      0.99       886\n",
      "Tomato_Spider_mites_Two_spotted_spider_mite       0.97      0.99      0.98       838\n",
      "                        Tomato__Target_Spot       0.97      0.97      0.97       702\n",
      "      Tomato__Tomato_YellowLeaf__Curl_Virus       0.99      1.00      1.00      1604\n",
      "                Tomato__Tomato_mosaic_virus       1.00      0.98      0.99       187\n",
      "                             Tomato_healthy       0.99      1.00      1.00       796\n",
      "\n",
      "                                   accuracy                           0.99      8008\n",
      "                                  macro avg       0.99      0.98      0.99      8008\n",
      "                               weighted avg       0.99      0.99      0.99      8008\n",
      "\n"
     ]
    }
   ],
   "source": [
    "model.eval()\n",
    "all_preds, all_labels = [], []\n",
    "with torch.no_grad():\n",
    "    for imgs, labels in test_loader:\n",
    "        imgs = imgs.to(device)\n",
    "        outputs = model(imgs)\n",
    "        preds = outputs.argmax(1).cpu().numpy()\n",
    "        all_preds.extend(preds)\n",
    "        all_labels.extend(labels.numpy())\n",
    "print(classification_report(all_labels, all_preds, target_names=test_data.classes))"
   ]
  },
  {
   "cell_type": "code",
   "execution_count": 37,
   "metadata": {
    "execution": {
     "iopub.execute_input": "2025-05-11T08:33:38.296000Z",
     "iopub.status.busy": "2025-05-11T08:33:38.295661Z",
     "iopub.status.idle": "2025-05-11T08:33:38.934970Z",
     "shell.execute_reply": "2025-05-11T08:33:38.934063Z",
     "shell.execute_reply.started": "2025-05-11T08:33:38.295966Z"
    },
    "trusted": true
   },
   "outputs": [
    {
     "data": {
      "image/png": "[encoded data removed]",
      "text/plain": [
       "<Figure size 1200x1000 with 2 Axes>"
      ]
     },
     "metadata": {},
     "output_type": "display_data"
    }
   ],
   "source": [
    "cm = confusion_matrix(all_labels, all_preds)\n",
    "plt.figure(figsize=(12, 10))\n",
    "sns.heatmap(cm, annot=True, fmt=\"d\", cmap=\"Blues\",\n",
    "            xticklabels=test_data.classes,\n",
    "            yticklabels=test_data.classes)\n",
    "plt.title(\"Confusion Matrix\")\n",
    "plt.xlabel(\"Predicted\")\n",
    "plt.ylabel(\"Actual\")\n",
    "plt.xticks(rotation=90)\n",
    "plt.show()"
   ]
  },
  {
   "cell_type": "code",
   "execution_count": null,
   "metadata": {
    "execution": {
     "iopub.execute_input": "2025-05-07T13:00:57.644177Z",
     "iopub.status.busy": "2025-05-07T13:00:57.643787Z",
     "iopub.status.idle": "2025-05-07T13:01:03.701555Z",
     "shell.execute_reply": "2025-05-07T13:01:03.700871Z",
     "shell.execute_reply.started": "2025-05-07T13:00:57.644145Z"
    },
    "trusted": true
   },
   "outputs": [],
   "source": []
  }
 ],
 "metadata": {
  "kaggle": {
   "accelerator": "nvidiaTeslaT4",
   "dataSources": [
    {
     "datasetId": 70909,
     "sourceId": 150545,
     "sourceType": "datasetVersion"
    },
    {
     "datasetId": 619181,
     "sourceId": 1105687,
     "sourceType": "datasetVersion"
    },
    {
     "isSourceIdPinned": true,
     "modelId": 322976,
     "modelInstanceId": 302481,
     "sourceId": 364563,
     "sourceType": "modelInstanceVersion"
    },
    {
     "isSourceIdPinned": true,
     "modelId": 322976,
     "modelInstanceId": 302481,
     "sourceId": 386563,
     "sourceType": "modelInstanceVersion"
    }
   ],
   "dockerImageVersionId": 30919,
   "isGpuEnabled": true,
   "isInternetEnabled": true,
   "language": "python",
   "sourceType": "notebook"
  },
  "kernelspec": {
   "display_name": "Python 3",
   "language": "python",
   "name": "python3"
  },
  "language_info": {
   "codemirror_mode": {
    "name": "ipython",
    "version": 3
   },
   "file_extension": ".py",
   "mimetype": "text/x-python",
   "name": "python",
   "nbconvert_exporter": "python",
   "pygments_lexer": "ipython3",
   "version": "3.10.12"
  }
 },
 "nbformat": 4,
 "nbformat_minor": 4
}
